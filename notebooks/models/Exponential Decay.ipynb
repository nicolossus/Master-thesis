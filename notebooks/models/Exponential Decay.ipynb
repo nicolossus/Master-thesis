{
 "cells": [
  {
   "cell_type": "markdown",
   "id": "super-netherlands",
   "metadata": {},
   "source": [
    "---\n",
    "---\n",
    "\n",
    "# <center><font color='black'>A Simple ODE: Exponential Decay</font></center> <a class=\"tocSkip\">\n",
    "    \n",
    "### <center><font color='black'>Nicolai Haug</font></center> <a class=\"tocSkip\">\n",
    "    \n",
    "### <center><font color='black'>2021</font></center> <a class=\"tocSkip\">\n",
    "    \n",
    "---\n",
    "---"
   ]
  },
  {
   "cell_type": "markdown",
   "id": "indian-still",
   "metadata": {},
   "source": [
    "# Table of Contents <a class=\"tocSkip\">\n",
    "\n",
    "* [Introduction](#introduction)\n",
    "    * [Configure Notebook](#configure) \n",
    "* [Exponential Decay](#)"
   ]
  },
  {
   "cell_type": "markdown",
   "id": "thirty-pittsburgh",
   "metadata": {},
   "source": [
    "# Introduction <a name=\"introduction\"></a> \n",
    "\n",
    "In the following, our model problem is that of exponential decay, perhaps the simplest ordinary differential equation (ODE). This ODE arises in a number of different phenomena where some quantity is subject to exponential reduction [[1]](#references). Examples include radioactive decay, population decay, investment decay, cooling of an object, and retarded motion in fluids. We have chosen this particular ODE due to its simplicity and because studying the application of the likelihood-free inference methods on this particular problem gives important insights that can be reused in far more complicated settings.\n",
    "\n",
    "## Configure Notebook <a name=\"configure\"></a>\n",
    "\n",
    "<div class=\"alert alert-block alert-info\" style=\"background-color: white; border: 2px solid; padding: 10px\">\n",
    "    <b><i class=\"fa fa-exclamation-circle\" aria-hidden=\"true\"></i>&nbsp; Important</b><br>\n",
    "    <p style=\"color: black\">\n",
    "        Run the cell below to configure the notebook. \n",
    "    </p>\n",
    "<div>\n",
    "</div>\n",
    "</div>"
   ]
  },
  {
   "cell_type": "code",
   "execution_count": null,
   "id": "bizarre-letters",
   "metadata": {},
   "outputs": [],
   "source": [
    "import os\n",
    "import sys\n",
    "\n",
    "import matplotlib.pyplot as plt\n",
    "import numpy as np\n",
    "import pandas as pd\n",
    "import scipy.stats as stats\n",
    "import seaborn as sns\n",
    "\n",
    "from IPython.display import display\n",
    "from latex_envs.latex_envs import figcaption \n",
    "from matplotlib import cm\n",
    "from matplotlib import gridspec\n",
    "from matplotlib.ticker import FormatStrFormatter, LinearLocator\n",
    "from mpl_toolkits.mplot3d import Axes3D\n",
    "from numpy.random import default_rng\n",
    "from scipy.integrate import odeint\n",
    "\n",
    "import warnings\n",
    "# Comment this to turn on warnings\n",
    "warnings.filterwarnings('ignore')\n",
    "\n",
    "#plt.style.use('seaborn')\n",
    "sns.set()\n",
    "sns.set_context(\"paper\")\n",
    "sns.set_style(\"darkgrid\", {\"axes.facecolor\": \"0.96\"})\n",
    "\n",
    "# Set fontsizes in figures\n",
    "params = {'legend.fontsize': 'large',\n",
    "          'axes.labelsize': 'large',\n",
    "          'axes.titlesize': 'large',\n",
    "          'xtick.labelsize': 'large',\n",
    "          'ytick.labelsize': 'large',\n",
    "          'legend.fontsize': 'large',\n",
    "          #'legend.handlelength': 2\n",
    "         }\n",
    "plt.rcParams.update(params)\n",
    "plt.rc('text', usetex=True)\n",
    "\n",
    "%matplotlib inline\n",
    "%config InlineBackend.figure_format = 'retina'\n",
    "%load_ext autoreload\n",
    "%autoreload 2"
   ]
  },
  {
   "cell_type": "markdown",
   "id": "exact-firmware",
   "metadata": {},
   "source": [
    "# Exponential Decay \n",
    "\n",
    "The rate at which a quantity subject to exponential decay decreases is proportional to its current value. The differential equation for this problem is\n",
    "\n",
    "\\begin{equation}\n",
    "    \\frac{\\mathrm{d}N}{\\mathrm{d}t} = - \\lambda N,\n",
    "\\end{equation}\n",
    "\n",
    "where $N$ is the quantity and proportionality constant $\\lambda > 0$ is called the decay constant. This is a separable equation; we write it as $\\mathrm{d}N / N = - \\lambda \\mathrm{d}t$. Integrating both sides, we have $\\ln N = - \\lambda t + \\mathrm{const}$. Given that the initial quantity is $N=N_0$ at time $t=0$, we see that the constant is $\\ln N_0$. The solution to this differential equation is thus \n",
    "\n",
    "\\begin{equation}\n",
    "    N(t) = N_0 \\mathrm{e}^{-\\lambda t}, \n",
    "\\end{equation}\n",
    "\n",
    "where $N(t)$ is the quantity at time $t$. \n",
    "\n",
    "## "
   ]
  },
  {
   "cell_type": "code",
   "execution_count": null,
   "id": "extended-crime",
   "metadata": {},
   "outputs": [],
   "source": []
  },
  {
   "cell_type": "markdown",
   "id": "governmental-notification",
   "metadata": {},
   "source": [
    "# Note on Numerical Solution Methods for Differential Equations \n",
    "\n",
    "note on meshes and resolution. A deep dive of different numerical solution methods and their caveats is a vast topic and not within the scope of this thesis. however, note that resolution and efficiency of simulator is tied to the choice of numerical solution scheme. in this thesis, we aim to use solvers with good track records for the particular differential equations of interest. Especially, for the neural models, we will use standard frameworks for our simulator models. "
   ]
  },
  {
   "cell_type": "markdown",
   "id": "developmental-dimension",
   "metadata": {},
   "source": [
    "# Notes\n",
    "\n",
    ">A test dataset was generated by solving the system of equations (3.1) in the interval [0, 50] using a fourth order Runge–Kutta method and storing the solution at weekly intervals (figure 2), using true model parameters 𝜽=(𝛽=0.9,𝛾=13)𝑇. To generate observations y, normal noise 𝒩(0,𝜎2=0.0001) was added to the solution\n",
    "\n",
    "https://en.wikipedia.org/wiki/Sufficient_statistic#Exponential_distribution\n",
    "\n",
    "http://hplgit.github.io/INF5620/doc/pub/sphinx-decay/._main_decay008.html\n",
    "\n",
    "\n",
    "stochastic model, exponential distribution, same functional form\n",
    "\n",
    "ODE model captures the mean behavior of the underlying stochastic model.\n",
    "\n",
    "Is there a crucial difference between exponential functions and exponential distributions?\n",
    "\n",
    "Yes, of course. An exponential function is a function on the real (or complex) numbers. An exponential distribution is a function on measureable sets of real numbers that gives the probability of each such a set. As a short cut it can be defined by a density function which is an exponential function, or by a cumulative distribution function which is 1 - an exponential function."
   ]
  },
  {
   "cell_type": "markdown",
   "id": "spanish-steal",
   "metadata": {},
   "source": [
    "# References \n",
    "\n",
    "[1] HPL, decay book"
   ]
  }
 ],
 "metadata": {
  "kernelspec": {
   "display_name": "Python 3",
   "language": "python",
   "name": "python3"
  },
  "language_info": {
   "codemirror_mode": {
    "name": "ipython",
    "version": 3
   },
   "file_extension": ".py",
   "mimetype": "text/x-python",
   "name": "python",
   "nbconvert_exporter": "python",
   "pygments_lexer": "ipython3",
   "version": "3.8.8"
  },
  "latex_envs": {
   "LaTeX_envs_menu_present": true,
   "autoclose": true,
   "autocomplete": false,
   "bibliofile": "biblio.bib",
   "cite_by": "apalike",
   "current_citInitial": 1,
   "eqLabelWithNumbers": true,
   "eqNumInitial": 1,
   "hotkeys": {
    "equation": "Ctrl-E",
    "itemize": "Ctrl-I"
   },
   "labels_anchors": false,
   "latex_user_defs": false,
   "report_style_numbering": false,
   "user_envs_cfg": false
  },
  "toc": {
   "base_numbering": 1,
   "nav_menu": {},
   "number_sections": true,
   "sideBar": true,
   "skip_h1_title": false,
   "title_cell": "Table of Contents",
   "title_sidebar": "Contents",
   "toc_cell": false,
   "toc_position": {},
   "toc_section_display": true,
   "toc_window_display": false
  },
  "varInspector": {
   "cols": {
    "lenName": 16,
    "lenType": 16,
    "lenVar": 40
   },
   "kernels_config": {
    "python": {
     "delete_cmd_postfix": "",
     "delete_cmd_prefix": "del ",
     "library": "var_list.py",
     "varRefreshCmd": "print(var_dic_list())"
    },
    "r": {
     "delete_cmd_postfix": ") ",
     "delete_cmd_prefix": "rm(",
     "library": "var_list.r",
     "varRefreshCmd": "cat(var_dic_list()) "
    }
   },
   "types_to_exclude": [
    "module",
    "function",
    "builtin_function_or_method",
    "instance",
    "_Feature"
   ],
   "window_display": false
  }
 },
 "nbformat": 4,
 "nbformat_minor": 5
}
