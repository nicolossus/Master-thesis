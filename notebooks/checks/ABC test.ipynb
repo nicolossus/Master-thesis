{
 "cells": [
  {
   "cell_type": "markdown",
   "metadata": {},
   "source": [
    "## Bayesian Approach to Data Analysis\n",
    "\n",
    "**Source:** https://juanitorduz.github.io/intro_pymc3/\n",
    "\n",
    "Assume that we have a samle of observations $y_1, ..., y_n$ of a random variable $Y \\sim f(y | \\theta)$, where $\\theta$ is a parameter for the distribution. Here we consider $\\theta$ as a random variable as well. Following Bayes Theorem we can write\n",
    "\n",
    "\\begin{align*}\n",
    "    f ( \\theta | y) = \\frac{f (y | \\theta) f (\\theta)}{f(y)} = \\frac{f (y | \\theta) f(\\theta)}{\\int f(y|\\theta) f(\\theta) d\\theta}\n",
    "\\end{align*}\n",
    "\n",
    "* The function $f(y | \\theta)$ is called the **likelihood**\n",
    "* $f(\\theta)$ is the **prior** distribution of $\\theta$ \n",
    "\n",
    "Note that $f(y)$ does not depend on $\\theta$, thus it can be considered as just a \"normalizing constant\".  It is therefore enough to consider the relation\n",
    "\n",
    "\\begin{align*}\n",
    "    f (\\theta | y) \\propto \\text{likelihood } \\times \\text{ prior}\n",
    "\\end{align*}\n",
    "\n",
    "### Example\n",
    "\n",
    "In order to give a better sense of the relation above we are going to study a concrete example. Consider $n$ samles of $Y \\sim \\text{ Poiss}(\\lambda)$. Recall that the Poisson distribution is given by\n",
    "\n",
    "\\begin{align*}\n",
    "    f(y_i | \\lambda) = \\frac{e^{- \\lambda} \\lambda^{y_i}}{y_i !}\n",
    "\\end{align*}\n",
    "\n",
    "where $\\lambda > 0$. It is easy to verify that the **expected value** and **variance** are $\\mathrm{E}(Y) = \\lambda$ and $\\mathrm{Var}(Y) = \\lambda$ respectively."
   ]
  },
  {
   "cell_type": "code",
   "execution_count": 1,
   "metadata": {},
   "outputs": [
    {
     "data": {
      "text/plain": [
       "array([2, 4, 1, 0, 2, 2, 2, 2, 1, 1, 3, 2, 0, 1, 3, 3, 4, 2, 0, 0, 3, 6,\n",
       "       1, 2, 1, 2, 5, 2, 3, 0, 1, 3, 1, 4, 1, 2, 4, 0, 6, 4, 1, 2, 2, 0,\n",
       "       1, 2, 4, 4, 1, 3, 0, 3, 3, 2, 4, 2, 2, 1, 1, 2, 5, 2, 3, 0, 1, 1,\n",
       "       1, 3, 4, 1, 3, 4, 2, 1, 2, 4, 2, 2, 1, 0, 2, 2, 3, 0, 3, 3, 4, 2,\n",
       "       2, 1, 2, 1, 3, 0, 1, 0, 3, 3, 1, 2])"
      ]
     },
     "execution_count": 1,
     "metadata": {},
     "output_type": "execute_result"
    }
   ],
   "source": [
    "import numpy as np\n",
    "import scipy.stats as ss\n",
    "\n",
    "# We set a seed so that the results are reproducible.\n",
    "np.random.seed(5)\n",
    "\n",
    "# number of samples.\n",
    "n = 100\n",
    "\n",
    "# true parameter.\n",
    "lam_true = 2\n",
    "\n",
    "# sample array.\n",
    "y = np.random.poisson(lam=lam_true, size=n)\n",
    "\n",
    "y"
   ]
  },
  {
   "cell_type": "code",
   "execution_count": 2,
   "metadata": {},
   "outputs": [
    {
     "data": {
      "text/plain": [
       "2.06"
      ]
     },
     "execution_count": 2,
     "metadata": {},
     "output_type": "execute_result"
    }
   ],
   "source": [
    "# mean of the sample.\n",
    "y.mean()"
   ]
  },
  {
   "cell_type": "code",
   "execution_count": 3,
   "metadata": {},
   "outputs": [
    {
     "data": {
      "image/png": "[encoded data removed]",
      "text/plain": [
       "<Figure size 576x432 with 1 Axes>"
      ]
     },
     "metadata": {
      "needs_background": "light"
     },
     "output_type": "display_data"
    }
   ],
   "source": [
    "import matplotlib.pyplot as plt\n",
    "import seaborn as sns; sns.set()\n",
    "%matplotlib inline\n",
    "\n",
    "# Histogram of the sample.\n",
    "plt.figure(figsize=(8, 6))\n",
    "plt.hist(y, bins=15)\n",
    "plt.title('Histogram of Simulated Data');"
   ]
  },
  {
   "cell_type": "markdown",
   "metadata": {},
   "source": [
    "#### Prior: Gamma Distribution \n",
    "\n",
    "Let us consider a gamma prior distribution for the parameter $\\lambda \\sim \\Gamma (a,b)$. Recall that the density function for the gamma distribution is \n",
    "\n",
    "\\begin{align*}\n",
    "    f (\\lambda) = \\frac{b^a}{\\Gamma (a)} \\lambda^{a-1} e^{-b \\lambda}\n",
    "\\end{align*}\n",
    "\n",
    "where $a>0$ is the **shape** parameter and $b>0$ is the **rate** parameter. One verifies that \n",
    "\n",
    "\\begin{align*}\n",
    "    \\mathrm{E}(\\lambda) = \\frac{a}{b} \\quad \\text{and} \\quad \\mathrm{Var}(\\lambda) = \\frac{a}{b^2}\n",
    "\\end{align*}\n",
    "\n",
    "Let us plot a gamma distribution for parameters $a=3.5$ and $b=2$. "
   ]
  },
  {
   "cell_type": "code",
   "execution_count": 4,
   "metadata": {},
   "outputs": [
    {
     "data": {
      "image/png": "[encoded data removed]",
      "text/plain": [
       "<Figure size 576x432 with 1 Axes>"
      ]
     },
     "metadata": {
      "needs_background": "light"
     },
     "output_type": "display_data"
    }
   ],
   "source": [
    "# Parameters of the prior gamma distribution.\n",
    "a = 3.5 # shape\n",
    "b = 2 # rate = 1/scale\n",
    "\n",
    "x = np.linspace(start=0, stop=10, num=100)\n",
    "\n",
    "plt.figure(figsize=(8, 6))\n",
    "plt.plot(x, ss.gamma.pdf(x,a=a,scale=1/b), 'r-')\n",
    "plt.title('Gamma Density Function for a={} and b={}'.format(a,b))\n",
    "\n",
    "# Define the prior distribution.\n",
    "prior = lambda x: ss.gamma.pdf(x, a=a, scale=1/b)"
   ]
  },
  {
   "cell_type": "code",
   "execution_count": null,
   "metadata": {},
   "outputs": [],
   "source": []
  },
  {
   "cell_type": "code",
   "execution_count": null,
   "metadata": {},
   "outputs": [],
   "source": []
  }
 ],
 "metadata": {
  "kernelspec": {
   "display_name": "Python 3",
   "language": "python",
   "name": "python3"
  },
  "language_info": {
   "codemirror_mode": {
    "name": "ipython",
    "version": 3
   },
   "file_extension": ".py",
   "mimetype": "text/x-python",
   "name": "python",
   "nbconvert_exporter": "python",
   "pygments_lexer": "ipython3",
   "version": "3.8.5"
  }
 },
 "nbformat": 4,
 "nbformat_minor": 4
}
