{
 "cells": [
  {
   "cell_type": "code",
   "execution_count": null,
   "id": "bulgarian-mounting",
   "metadata": {
    "ExecuteTime": {
     "end_time": "2021-02-21T15:21:54.945693Z",
     "start_time": "2021-02-21T15:21:54.942370Z"
    }
   },
   "outputs": [],
   "source": [
    "import scipy.stats as stats\n",
    "import numpy as np\n",
    "import matplotlib.pyplot as plt\n",
    "\n",
    "\n",
    "class MyClass:\n",
    "    def do_stuff(self):\n",
    "        a = 2\n",
    "        b = 4\n",
    "        c = a + b\n",
    "        return c"
   ]
  },
  {
   "cell_type": "markdown",
   "id": "organizational-swing",
   "metadata": {},
   "source": [
    "If I write wong what happens? Spelcheck \n",
    "\n",
    "blabla"
   ]
  },
  {
   "cell_type": "code",
   "execution_count": null,
   "id": "gentle-monday",
   "metadata": {
    "ExecuteTime": {
     "end_time": "2021-02-21T15:25:29.261496Z",
     "start_time": "2021-02-21T15:25:29.254269Z"
    }
   },
   "outputs": [],
   "source": [
    "x = nampy.linspace(0, 2 * np.pi, 100)"
   ]
  },
  {
   "cell_type": "code",
   "execution_count": null,
   "id": "virtual-funds",
   "metadata": {
    "ExecuteTime": {
     "end_time": "2021-02-21T15:22:31.709831Z",
     "start_time": "2021-02-21T15:22:31.707196Z"
    }
   },
   "outputs": [],
   "source": [
    "x = np.linspace(0, 2 * np.pi, 100)\n",
    "y = np.sin(x)"
   ]
  },
  {
   "cell_type": "markdown",
   "id": "particular-terrain",
   "metadata": {},
   "source": []
  }
 ],
 "metadata": {
  "kernelspec": {
   "display_name": "Python 3",
   "language": "python",
   "name": "python3"
  },
  "language_info": {
   "codemirror_mode": {
    "name": "ipython",
    "version": 3
   },
   "file_extension": ".py",
   "mimetype": "text/x-python",
   "name": "python",
   "nbconvert_exporter": "python",
   "pygments_lexer": "ipython3",
   "version": "3.8.8"
  },
  "latex_envs": {
   "LaTeX_envs_menu_present": true,
   "autoclose": true,
   "autocomplete": true,
   "bibliofile": "biblio.bib",
   "cite_by": "apalike",
   "current_citInitial": 1,
   "eqLabelWithNumbers": true,
   "eqNumInitial": 1,
   "hotkeys": {
    "equation": "Ctrl-E",
    "itemize": "Ctrl-I"
   },
   "labels_anchors": false,
   "latex_user_defs": false,
   "report_style_numbering": false,
   "user_envs_cfg": false
  },
  "toc": {
   "base_numbering": 1,
   "nav_menu": {},
   "number_sections": true,
   "sideBar": true,
   "skip_h1_title": false,
   "title_cell": "Table of Contents",
   "title_sidebar": "Contents",
   "toc_cell": false,
   "toc_position": {},
   "toc_section_display": true,
   "toc_window_display": false
  },
  "varInspector": {
   "cols": {
    "lenName": 16,
    "lenType": 16,
    "lenVar": 40
   },
   "kernels_config": {
    "python": {
     "delete_cmd_postfix": "",
     "delete_cmd_prefix": "del ",
     "library": "var_list.py",
     "varRefreshCmd": "print(var_dic_list())"
    },
    "r": {
     "delete_cmd_postfix": ") ",
     "delete_cmd_prefix": "rm(",
     "library": "var_list.r",
     "varRefreshCmd": "cat(var_dic_list()) "
    }
   },
   "types_to_exclude": [
    "module",
    "function",
    "builtin_function_or_method",
    "instance",
    "_Feature"
   ],
   "window_display": false
  }
 },
 "nbformat": 4,
 "nbformat_minor": 5
}
