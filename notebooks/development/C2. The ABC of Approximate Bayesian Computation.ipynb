{
 "cells": [
  {
   "cell_type": "markdown",
   "metadata": {},
   "source": [
    "\n",
    "**Topics**\n",
    "\n",
    "* the abc approximation to the posterior (see handbook)\n",
    "* \n",
    "\n",
    "**Books/papers** \n",
    "\n",
    "* 2018 book, Likelihood-Free Methods for Cognitive Science\n",
    "\n",
    "\n",
    "**Snippets**\n",
    "\n",
    "\n",
    "The ABC methodology, where ABC stands for approxi- mate Bayesian computation, was mentioned as early as 1984 through a pedagogical and philosophical argument in Rubin (1984). It offers an almost automated resolution of the dif- ficulty with models which are intractable but can be simu- lated from. It was first proposed in population genetics by Tavaré et al. (1997), who introduced Approximate Bayesian Computation methods as a rejection technique bypassing the computation of the likelihood function via a simulation from the corresponding distribution. The exact version of the method can only be implemented in a small range of cases. Pritchard et al. (1999) produce a generalisation based on an approximation of the target. We study here the foundations as well as the implementation of the ABC method, with il- lustrations from time series. \n",
    "\n",
    "* ^ marin2012_article_abc, bra abc analyser \n",
    "\n",
    "* LFI chapter, 2019 book statistics and data science, side 98, ligning (2): \n",
    "\n",
    "Unfortunately, we cannot evaluate (2) explicitly. However it is possible to drawn an IID random sample TN = {Θj }Nj=1 (N ∈ N) from the quasi-posterior distribution that is characterized by (2), using the so-called rejection algorithm.\n",
    "\n",
    "https://www.ncbi.nlm.nih.gov/pmc/articles/PMC4297650/\n",
    "\n",
    "Clearly, deciding how to characterize the data is an important choice in the likelihood-free context. Namely, it is impossible to know whether or not a set of statistics is sufficient for the unknown parameters if the likelihood is intractable.\n",
    "\n",
    "https://github.com/bmorris3/abc_interact/blob/master/abc_interact.ipynb\n",
    "\n",
    "https://github.com/elfi-dev/elfi/blob/dev/elfi/methods/parameter_inference.py\n",
    "\n",
    "MCMC \n",
    "\n",
    "https://github.com/davidtgonzales/ABC/blob/master/Lotka-Volterra%20ABC.ipynb\n",
    "\n",
    "SMC \n",
    "\n",
    "https://docs.pymc.io/notebooks/SMC-ABC_Lotka-Volterra_example.html\n",
    "\n",
    "https://github.com/pymc-devs/pymc3/tree/master/pymc3/smc\n",
    "\n",
    "https://github.com/ICB-DCM/pyABC/blob/main/pyabc/inference/smc.py\n",
    "\n",
    "https://github.com/vuolleko/abclib/blob/master/abclib.pyx\n",
    "\n",
    "https://github.com/Neojume/pythonABC/blob/master/algorithms.py"
   ]
  },
  {
   "cell_type": "code",
   "execution_count": null,
   "metadata": {},
   "outputs": [],
   "source": []
  }
 ],
 "metadata": {
  "kernelspec": {
   "display_name": "Python 3",
   "language": "python",
   "name": "python3"
  },
  "language_info": {
   "codemirror_mode": {
    "name": "ipython",
    "version": 3
   },
   "file_extension": ".py",
   "mimetype": "text/x-python",
   "name": "python",
   "nbconvert_exporter": "python",
   "pygments_lexer": "ipython3",
   "version": "3.8.5"
  },
  "latex_envs": {
   "LaTeX_envs_menu_present": true,
   "autoclose": true,
   "autocomplete": true,
   "bibliofile": "biblio.bib",
   "cite_by": "apalike",
   "current_citInitial": 1,
   "eqLabelWithNumbers": true,
   "eqNumInitial": 1,
   "hotkeys": {
    "equation": "Ctrl-E",
    "itemize": "Ctrl-I"
   },
   "labels_anchors": false,
   "latex_user_defs": false,
   "report_style_numbering": false,
   "user_envs_cfg": false
  },
  "toc": {
   "base_numbering": 1,
   "nav_menu": {},
   "number_sections": true,
   "sideBar": true,
   "skip_h1_title": false,
   "title_cell": "Table of Contents",
   "title_sidebar": "Contents",
   "toc_cell": false,
   "toc_position": {},
   "toc_section_display": true,
   "toc_window_display": false
  },
  "varInspector": {
   "cols": {
    "lenName": 16,
    "lenType": 16,
    "lenVar": 40
   },
   "kernels_config": {
    "python": {
     "delete_cmd_postfix": "",
     "delete_cmd_prefix": "del ",
     "library": "var_list.py",
     "varRefreshCmd": "print(var_dic_list())"
    },
    "r": {
     "delete_cmd_postfix": ") ",
     "delete_cmd_prefix": "rm(",
     "library": "var_list.r",
     "varRefreshCmd": "cat(var_dic_list()) "
    }
   },
   "types_to_exclude": [
    "module",
    "function",
    "builtin_function_or_method",
    "instance",
    "_Feature"
   ],
   "window_display": false
  }
 },
 "nbformat": 4,
 "nbformat_minor": 5
}
