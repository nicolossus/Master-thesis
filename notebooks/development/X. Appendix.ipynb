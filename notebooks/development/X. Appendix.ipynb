{
 "cells": [
  {
   "cell_type": "markdown",
   "id": "grave-appointment",
   "metadata": {},
   "source": [
    "---\n",
    "---\n",
    "\n",
    "# <center><font color='black'>Appendix</font></center> <a class=\"tocSkip\">\n",
    "    \n",
    "### <center><font color='black'>Nicolai Haug</font></center> <a class=\"tocSkip\">\n",
    "    \n",
    "### <center><font color='black'>2021</font></center> <a class=\"tocSkip\">\n",
    "    \n",
    "---\n",
    "---"
   ]
  },
  {
   "cell_type": "markdown",
   "id": "electoral-disabled",
   "metadata": {},
   "source": [
    "# Table of Contents <a class=\"tocSkip\">\n",
    "\n",
    "* [Introduction](#introduction)\n",
    "    * [Configure Notebook](#configure) \n",
    "* [Appendix A: Statistics Primer](#appendixA)"
   ]
  },
  {
   "cell_type": "markdown",
   "id": "hourly-texture",
   "metadata": {},
   "source": [
    "# Introduction <a name=\"introduction\"></a> \n",
    "\n",
    "This notebook "
   ]
  },
  {
   "cell_type": "markdown",
   "id": "southwest-understanding",
   "metadata": {},
   "source": [
    "## Configure Notebook <a name=\"configure\"></a> \n",
    "\n",
    "Run the cell below to configure the notebook. "
   ]
  },
  {
   "cell_type": "code",
   "execution_count": 1,
   "id": "mental-easter",
   "metadata": {
    "ExecuteTime": {
     "end_time": "2021-02-27T14:13:15.580779Z",
     "start_time": "2021-02-27T14:13:13.624284Z"
    }
   },
   "outputs": [],
   "source": [
    "%matplotlib inline\n",
    "%config InlineBackend.figure_format = 'retina'\n",
    "\n",
    "import os\n",
    "import sys\n",
    "\n",
    "import matplotlib.pyplot as plt\n",
    "import numba\n",
    "import numpy as np\n",
    "import pandas as pd\n",
    "from scipy.stats import norm, invgamma, gaussian_kde\n",
    "\n",
    "from latex_envs.latex_envs import figcaption \n",
    "\n",
    "from IPython.display import display\n",
    "import warnings\n",
    "# Comment this to turn on warnings\n",
    "warnings.filterwarnings('ignore')\n",
    "\n",
    "#plt.style.use('seaborn')\n",
    "# Set fontsizes in figures\n",
    "params = {'legend.fontsize': 'large',\n",
    "          'axes.labelsize': 'large',\n",
    "          'axes.titlesize': 'large',\n",
    "          'xtick.labelsize': 'large',\n",
    "          'ytick.labelsize': 'large',\n",
    "          'legend.fontsize': 'large',\n",
    "          'legend.handlelength': 2}\n",
    "plt.rcParams.update(params)"
   ]
  },
  {
   "cell_type": "markdown",
   "id": "furnished-meter",
   "metadata": {},
   "source": [
    "# Appendix A: Statistics Primer <a name=\"appendixA\"></a> \n",
    "\n",
    "**Source:** Ch. 4 in [1] \n",
    "\n",
    "## Probability Density Functions and Cumulative Distribution Functions \n",
    "\n"
   ]
  },
  {
   "cell_type": "markdown",
   "id": "olive-hamilton",
   "metadata": {},
   "source": [
    "<div class=\"alert alert-block alert-info\" style=\"background-color: white; border: 2px solid; padding: 10px\">\n",
    "    <b><i class=\"fa fa-info-circle\" aria-hidden=\"true\"></i>&nbsp; Info</b><br>\n",
    "    <p style=\"color: black\">\n",
    "        We can also specify the order of the words within a sentence using numbers within the curly braces:\n",
    "    </p>\n",
    "<div>\n",
    "\n",
    "```python\n",
    ">>> \"Hello {1} {0}\".format(\"Mr.\", \"Bond\")  # explicit argument order\n",
    "'Hello Bond Mr.'\n",
    "```\n",
    "\n",
    "</div>\n",
    "</div>"
   ]
  },
  {
   "cell_type": "markdown",
   "id": "located-jesus",
   "metadata": {},
   "source": [
    "<div class=\"alert alert-block alert-info\" style=\"background-color: white; border: 2px solid; padding: 10px\">\n",
    "    <b><i class=\"fa fa-code\" aria-hidden=\"true\"></i>&nbsp; Code</b><br>\n",
    "    <p style=\"color: black\">\n",
    "        We can also specify the order of the words within a sentence using numbers within the curly braces:\n",
    "    </p>\n",
    "<div>\n",
    "\n",
    "```python\n",
    ">>> \"Hello {1} {0}\".format(\"Mr.\", \"Bond\")  # explicit argument order\n",
    "'Hello Bond Mr.'\n",
    "```\n",
    "\n",
    "</div>\n",
    "</div>"
   ]
  },
  {
   "cell_type": "markdown",
   "id": "faced-relaxation",
   "metadata": {},
   "source": [
    "<div class=\"alert alert-block alert-info\" style=\"background-color: white; border: 2px solid; padding: 10px\">\n",
    "    <b><i class=\"fa fa-bug\" aria-hidden=\"true\"></i>&nbsp; Bug</b><br>\n",
    "    <p style=\"color: black\">\n",
    "        We can also specify the order of the words within a sentence using numbers within the curly braces:\n",
    "    </p>\n",
    "<div>\n",
    "\n",
    "```python\n",
    ">>> \"Hello {1} {0}\".format(\"Mr.\", \"Bond\")  # explicit argument order\n",
    "'Hello Bond Mr.'\n",
    "```\n",
    "\n",
    "</div>\n",
    "</div>"
   ]
  },
  {
   "cell_type": "markdown",
   "id": "statistical-mountain",
   "metadata": {},
   "source": [
    "# References \n",
    "\n",
    "[1] Jay Devore and Kenneth Berk. *Modern Mathematical Statistics with Applications*. eng. Springer Texts in Statistics. New York, NY: Springer New York, 2011"
   ]
  },
  {
   "cell_type": "code",
   "execution_count": null,
   "id": "economic-digest",
   "metadata": {},
   "outputs": [],
   "source": []
  }
 ],
 "metadata": {
  "kernelspec": {
   "display_name": "Python 3",
   "language": "python",
   "name": "python3"
  },
  "language_info": {
   "codemirror_mode": {
    "name": "ipython",
    "version": 3
   },
   "file_extension": ".py",
   "mimetype": "text/x-python",
   "name": "python",
   "nbconvert_exporter": "python",
   "pygments_lexer": "ipython3",
   "version": "3.8.8"
  },
  "latex_envs": {
   "LaTeX_envs_menu_present": true,
   "autoclose": true,
   "autocomplete": true,
   "bibliofile": "biblio.bib",
   "cite_by": "apalike",
   "current_citInitial": 1,
   "eqLabelWithNumbers": true,
   "eqNumInitial": 1,
   "hotkeys": {
    "equation": "Ctrl-E",
    "itemize": "Ctrl-I"
   },
   "labels_anchors": false,
   "latex_user_defs": false,
   "report_style_numbering": false,
   "user_envs_cfg": false
  },
  "toc": {
   "base_numbering": 1,
   "nav_menu": {},
   "number_sections": true,
   "sideBar": true,
   "skip_h1_title": false,
   "title_cell": "Table of Contents",
   "title_sidebar": "Contents",
   "toc_cell": false,
   "toc_position": {},
   "toc_section_display": true,
   "toc_window_display": true
  },
  "varInspector": {
   "cols": {
    "lenName": 16,
    "lenType": 16,
    "lenVar": 40
   },
   "kernels_config": {
    "python": {
     "delete_cmd_postfix": "",
     "delete_cmd_prefix": "del ",
     "library": "var_list.py",
     "varRefreshCmd": "print(var_dic_list())"
    },
    "r": {
     "delete_cmd_postfix": ") ",
     "delete_cmd_prefix": "rm(",
     "library": "var_list.r",
     "varRefreshCmd": "cat(var_dic_list()) "
    }
   },
   "types_to_exclude": [
    "module",
    "function",
    "builtin_function_or_method",
    "instance",
    "_Feature"
   ],
   "window_display": false
  }
 },
 "nbformat": 4,
 "nbformat_minor": 5
}
